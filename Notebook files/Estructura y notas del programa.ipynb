{
 "metadata": {
  "name": "",
  "signature": "sha256:e3132d831994ae6ce6577710429a10c48af34b846cf4b998c7ed4be2c04c8677"
 },
 "nbformat": 3,
 "nbformat_minor": 0,
 "worksheets": [
  {
   "cells": [
    {
     "cell_type": "markdown",
     "metadata": {},
     "source": [
      "\u00c9ste documento interactivo es la primera versi\u00f3n sobre la estructura de un programa en python. La idea con el documento es presentar los elementos b\u00e1sicos para la construcci\u00f3n de modulos y funciones. En \u00e9sta primera parte se presenta el formato de programaci\u00f3n utilizado para el desarrollo de las librer\u00edas. Como referencia se utiliza el programa \"bisection.py\".\n",
      "\n",
      "Como primer elemento, se enecuentra el cabezal del programa, \u00e9ste incluye informaci\u00f3n sobre el autor, versi\u00f3n del programa y descripci\u00f3n del mismo. Para \u00e9ste proposito es posible utilizar el formato de bloque de comentarios o el tipo \"docstring\". El primero puede presentarse como:"
     ]
    },
    {
     "cell_type": "code",
     "collapsed": false,
     "input": [
      "#==============================================================================\n",
      "#file            : bisection.py\n",
      "#description     : This is a function that calculates the roots of a polinomial function using the bisection numerical method.\n",
      "#inputs:         : rf ; raw function, string of the form a*x+b\n",
      "#                  a ; left range interval\n",
      "#                  b ; right range interval\n",
      "#                  n ; number of iterations\n",
      "#                  t ; tolerance of calculation\n",
      "#output:         : x ; the aproximated value of x such that f(x)=0\n",
      "#version         : 1.01\n",
      "#usage           : python bisection.py\n",
      "#dependencies    : none\n",
      "#python_version  : 3.3.4\n",
      "#author          : JJ.Cadavid - SFTC - EAFIT University\n",
      "#date            : 24/08/2014.\n",
      "#=============================================================================="
     ],
     "language": "python",
     "metadata": {},
     "outputs": [],
     "prompt_number": 1
    },
    {
     "cell_type": "markdown",
     "metadata": {},
     "source": [
      "El bloque de comentarios, utiliza el indicativo \"#\" de comentario al inicio de cada l\u00ednea, donde cada una establece un elemento de la informaci\u00f3n del programa. El formato \"docstring\" puede establecerse l\u00ednea por l\u00ednea o de manera multil\u00ednea."
     ]
    },
    {
     "cell_type": "code",
     "collapsed": false,
     "input": [
      "\"\"\"\n",
      "file: bisection.py\n",
      "description: This is a function that calculates the roots of a polinomial function using the bisection numerical method.\n",
      "inputs:         : rf ; raw function, string of the form a*x+b\n",
      "                  a ; left range interval\n",
      "                  b ; right range interval\n",
      "                  n ; number of iterations\n",
      "                  t ; tolerance of calculation\n",
      "output:         : x ; the aproximated value of x such that f(x)=0\n",
      "version: 1.01\n",
      "usage: python bisection.py\n",
      "dependencies: none\n",
      "python_version: 3.3.4\n",
      "author: JJ.Cadavid - SFTC - EAFIT University\n",
      "date: 24/08/2014.\n",
      "\"\"\""
     ],
     "language": "python",
     "metadata": {},
     "outputs": [
      {
       "metadata": {},
       "output_type": "pyout",
       "prompt_number": 2,
       "text": [
        "'\\nfile: bisection.py\\ndescription: This is a function that calculates the roots of a polinomial function using the bisection numerical method.\\ninputs:         : rf ; raw function, string of the form a*x+b\\n                  a ; left range interval\\n                  b ; right range interval\\n                  n ; number of iterations\\n                  t ; tolerance of calculation\\noutput:         : x ; the aproximated value of x such that f(x)=0\\nversion: 1.01\\nusage: python bisection.py\\ndependencies: none\\npython_version: 3.3.4\\nauthor: JJ.Cadavid - SFTC - EAFIT University\\ndate: 24/08/2014.\\n'"
       ]
      }
     ],
     "prompt_number": 2
    },
    {
     "cell_type": "markdown",
     "metadata": {},
     "source": [
      "\u00c9ste formato utiliza las tres comillas dobles para abrir y cerrar el entorno. Usualmente \u00e9ste formato es utilizado para establecer la documentaci\u00f3n de la clase o funci\u00f3n. Otro posible formato es creando variables de string:"
     ]
    },
    {
     "cell_type": "code",
     "collapsed": false,
     "input": [
      "__file__ = \"bisection.py\"\n",
      "__description__ = \"This is a function that calculates the roots of a polinomial function using the bisection numerical method\"\n",
      "__version__ = \"1.01\"\n",
      "__usage__ = \"bisection(rf,a,b,n,t)\"\n",
      "__dependencies__ = \"none\"\n",
      "__python_version__ = \"3.3.4\"\n",
      "__author__ = \"JJ.Cadavid - SFTC - EAFIT University\"\n",
      "__date__ = \"24/08/2014\""
     ],
     "language": "python",
     "metadata": {},
     "outputs": [],
     "prompt_number": 3
    },
    {
     "cell_type": "markdown",
     "metadata": {},
     "source": [
      "La segunda secci\u00f3n est\u00e1 en el llamado de modulos v\u00eda la funci\u00f3n \"import\". \u00c9ste primer llamado carga todas las funciones y m\u00e9todos que est\u00e1n predeterminados en el m\u00f3dulo. Para cargar un m\u00f3dulo part\u00edcular se utiliza la secuencia de llamado \"from module import function\":"
     ]
    },
    {
     "cell_type": "code",
     "collapsed": false,
     "input": [
      "#required modules\n",
      "import parser\n",
      "import matplotlib\n",
      "from sys import exit as error"
     ],
     "language": "python",
     "metadata": {},
     "outputs": [],
     "prompt_number": 4
    },
    {
     "cell_type": "markdown",
     "metadata": {},
     "source": [
      "En el caso de tener una funci\u00f3n como \"exit\", se puede agregar una secuencia de llamado diferente agregando \"as\" que permite renombrar el nombre de llamado en el programa. La tercera parte elemental de la estructura es la funci\u00f3n principal o el conjunto de m\u00e9todos dentro de una clase. "
     ]
    },
    {
     "cell_type": "code",
     "collapsed": false,
     "input": [
      "\n",
      "def bisection(rf,a,b,n,t):\n",
      "    \"\"\"numerical method that finds roots of first grade polynomials\"\"\"\n",
      "    f=parser.expr(rf).compile() #Parse string function into operable code by replacing x string with a number\n",
      "    x=a;\n",
      "    fa=eval(f); #f(a) interval eval\n",
      "    x=b;\n",
      "    fb=eval(f); #f(b) interval eval\n",
      "    if ((fa*fb)>0): #Both images must cross the x-axis, a way to check is with sign\n",
      "        sys.exit('[a,b] Interval does not cross the x-axis');\n",
      "    fp=10;\n",
      "    i=0;\n",
      "    while (abs(fp)>t):\n",
      "        x=a+(b-a)/2;    #Aproximation Calculation - changes every iteration\n",
      "        fp=eval(f);\n",
      "        print(\"f(p)={}\".format(fp));\n",
      "        if(fa*fp)>0:\n",
      "            a=x;\n",
      "        else:\n",
      "            b=x;\n",
      "        if(i>n):\n",
      "            print(\"p={}\".format(x));\n",
      "            error('Tolerance not met by set iterations');\n",
      "        i=i+1\n",
      "    print(\"p={}\".format(x));\n",
      "    return(x);"
     ],
     "language": "python",
     "metadata": {},
     "outputs": [],
     "prompt_number": 5
    },
    {
     "cell_type": "markdown",
     "metadata": {},
     "source": [
      "Hasta el momento, se ha definido un m\u00e9todo con cinco par\u00e1metros, \u00e9stos deber\u00e1n ser introducidos por el usuario. Un segundo programa nos permitir\u00e1 una secuencia de llamado del m\u00e9todo y los par\u00e1metros necesarios:"
     ]
    },
    {
     "cell_type": "code",
     "collapsed": false,
     "input": [
      "function = \"6.1*x+23.64\";\n",
      "a = -5.0;\n",
      "b = 0.0;\n",
      "n = 10.0;\n",
      "t = 0.05;\n",
      "root = bisection(function, a, b, n, t);\n",
      "print(root);"
     ],
     "language": "python",
     "metadata": {},
     "outputs": [
      {
       "output_type": "stream",
       "stream": "stdout",
       "text": [
        "f(p)=8.39\n",
        "f(p)=0.765\n",
        "f(p)=-3.0475\n",
        "f(p)=-1.14125\n",
        "f(p)=-0.188125\n",
        "f(p)=0.2884375\n",
        "f(p)=0.05015625\n",
        "f(p)=-0.068984375\n",
        "f(p)=-0.0094140625\n",
        "p=-3.876953125\n",
        "-3.876953125\n"
       ]
      }
     ],
     "prompt_number": 6
    },
    {
     "cell_type": "markdown",
     "metadata": {},
     "source": [
      "Una de las recomendaciones durante la asignaci\u00f3n de valores en un programa, est\u00e1 en asignar todas las variables antes de la ejecuci\u00f3n del m\u00e9todo, incluso las variables que no son necesarias en la funci\u00f3n. El motivo de ello est\u00e1 en que los objetos en memoria son localizados en un bloque de registros cercanos, agilizando el computo y evitando reservas de memoria en otros bloques."
     ]
    },
    {
     "cell_type": "markdown",
     "metadata": {},
     "source": [
      "Para visualizar el resultado del m\u00e9todo de bisecci\u00f3n, se puede importar el m\u00f3dulo de \"matplotlib\", una librer\u00eda especializada en la visualizaci\u00f3n y representaci\u00f3n de datos. En \u00e9ste caso, la funci\u00f3n \"pyplot\" permite la representaci\u00f3n bidimensional de datos"
     ]
    },
    {
     "cell_type": "code",
     "collapsed": false,
     "input": [
      "import matplotlib.pyplot as plt\n",
      "from numpy import linspace"
     ],
     "language": "python",
     "metadata": {},
     "outputs": [],
     "prompt_number": 7
    },
    {
     "cell_type": "code",
     "collapsed": false,
     "input": [
      "function=lambda x:6.1*x+23.64; # Function of obtained root\n",
      "x = linspace(a, b, 100); # x domain values defined by [a,b] interval\n",
      "y=function(x); \n",
      "font = {'family' : 'serif','color'  : 'darkred', 'weight' : 'normal', 'size'   : 16} # font used in axes legend\n",
      "plt.plot(x,y);\n",
      "plt.axis('auto') # according to list data, axes are adjust in the plot\n",
      "plt.title('First order polynomial root', fontdict=font); \n",
      "plt.text(-3, 12, r'$6.1x+23.64$', fontdict=font);\n",
      "plt.text(root, 0, r'$\\circ$ Root', fontdict=font);\n",
      "plt.xlabel('x position [a.u]', fontdict=font);\n",
      "plt.ylabel('y position [a.u]', fontdict=font);\n",
      "plt.grid();\n",
      "plt.show();"
     ],
     "language": "python",
     "metadata": {},
     "outputs": [],
     "prompt_number": 12
    },
    {
     "cell_type": "markdown",
     "metadata": {},
     "source": [
      "En la primera l\u00ednea de la anterior secci\u00f3n, se ha utilizado la funci\u00f3n \"lambda\", \u00e9ste m\u00e9todo permite manejar objetos que permitir\u00e1 evaluar una funci\u00f3n. \u00c9ste es sumamente \u00fatil para el caso de definir una funci\u00f3n algebr\u00e1ica que se desea evaluar. De manera similar en la definici\u00f3n de \"bisecci\u00f3n\" se utiliz\u00f3 un an\u00e1logo, \"parser.expr().compile()\". A diferencia de \"lambda\", \"parser\" permite el manejo part\u00edcular de objetos tipo string, mientras que \u00e9ste \u00faltimo permite el manejo de obtjetos mat\u00e9maticos. Una comparaci\u00f3n para evaluar expresiones algebra\u00edcas ser\u00eda:"
     ]
    },
    {
     "cell_type": "code",
     "collapsed": false,
     "input": [
      "x = 0.64; # Asumiendo que la variable de la expresi\u00f3n es x.\n",
      "\n",
      "function_1 = ('1.2*x**3-0.6-x*2+0.85*x-78.9'); # Entrada de funci\u00f3n polin\u00f3mica tipo string\n",
      "function_1P = parser.expr(function_1).compile();\n",
      "print(\"Parser evaluated -> {}\".format(eval(function_1P)));\n",
      "\n",
      "function_2 = lambda x: 1.2*x**3-0.6-x*2+0.85*x-78.9; # Entrada de funci\u00f3n polin\u00f3mica como objeto matem\u00e1tico\n",
      "function_2P= function_2(x);\n",
      "print(\"Lambda evaluated -> {}\".format(function_2P));"
     ],
     "language": "python",
     "metadata": {},
     "outputs": [
      {
       "output_type": "stream",
       "stream": "stdout",
       "text": [
        "Parser evaluated -> -79.9214272\n",
        "Lambda evaluated -> -79.9214272\n"
       ]
      }
     ],
     "prompt_number": 9
    },
    {
     "cell_type": "markdown",
     "metadata": {},
     "source": [
      "Ambos resultados son id\u00e9nticos, la diferencia est\u00e1 en el tipo de entrada. Para trabajar con strings, suponiendo que el usuario ha ingresado un valor desde \"input\", \"parser\" es m\u00e1s adecuado para largas cadenas de car\u00e1cteres ya que trabaja en parte en bajo nivel, mientras que \"lambda\" permite evaluar funciones definidas como objeto matem\u00e1tico utilizando el interprete."
     ]
    },
    {
     "cell_type": "markdown",
     "metadata": {},
     "source": [
      "Otro de los elementos para mencionar es la diferencia entre \"list\" y \"range\". En python 3.0, hay una diferencia respecto al python 2.0 con \u00e9stos m\u00e9todos. Para reducir el tiempo, \"range\" se ha definido como un objeto de memoria que define la posici\u00f3n, ello implica que no es un objeto que se pueda llamar y visualizar. Principalmente puede ser utilizado como iterador. El otro m\u00e9todo \"list\" permite manejar objetos representables que tienen un elemento asociado que se puede visualizar."
     ]
    },
    {
     "cell_type": "markdown",
     "metadata": {},
     "source": [
      "Una funci\u00f3n recurrente en la programaci\u00f3n de los m\u00e9todos num\u00e9ricos es \"linspace\", que permite generar un listado de elementos num\u00e9ricamente equidistantes en un intervalo. Por defecto, se utilizan 50 elementos y se puede variar \u00e9ste par\u00e1metro. Un m\u00e9todo similar es \"arange\" que permite generar un listado de elementos un intervalo. Ambos m\u00e9todos son importados desde \"numpy\"."
     ]
    },
    {
     "cell_type": "code",
     "collapsed": false,
     "input": [
      "from numpy import arange\n",
      "AR=arange(0.0,11.0,1);\n",
      "print(AR);\n",
      "LN=linspace(0.0,10.0,11);\n",
      "print(LN);\n",
      "plt.plot(AR,LN,'ro')\n",
      "plt.show()"
     ],
     "language": "python",
     "metadata": {},
     "outputs": [
      {
       "output_type": "stream",
       "stream": "stdout",
       "text": [
        "[  0.   1.   2.   3.   4.   5.   6.   7.   8.   9.  10.]\n",
        "[  0.   1.   2.   3.   4.   5.   6.   7.   8.   9.  10.]\n"
       ]
      }
     ],
     "prompt_number": 10
    },
    {
     "cell_type": "markdown",
     "metadata": {},
     "source": [
      "Ambos m\u00e9todos son equivalentes, pero n\u00f3tese que para un intervalo desde [0,10] \"arange\" requiere sumarle uno al extremo final, ventaja de arange es que permite ajustar la distancia en que los objetos creados son equidistante. Por su parte \"linspace\" permite ajustar el total de elementos a utilizar, siendo de utilidad para discriminar un dominio discreto, particularmente \u00fatil en el caso de que se desee muestrear una funci\u00f3n, evaluando cu\u00e1ndo el dominio est\u00e1 submuestreado o sobremuestreado."
     ]
    },
    {
     "cell_type": "code",
     "collapsed": false,
     "input": [],
     "language": "python",
     "metadata": {},
     "outputs": []
    }
   ],
   "metadata": {}
  }
 ]
}