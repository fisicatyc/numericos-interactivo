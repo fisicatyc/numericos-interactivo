{
 "metadata": {
  "name": "",
  "signature": "sha256:4ca6f122e554acfb99005eb4380abc7dcaccba1c897541018b33722ff6d8da6e"
 },
 "nbformat": 3,
 "nbformat_minor": 0,
 "worksheets": [
  {
   "cells": [
    {
     "cell_type": "markdown",
     "metadata": {},
     "source": [
      "$\\frac{\\partial^2y(\\epsilon)2}{\\partial \\epsilon^2}$\n"
     ]
    },
    {
     "cell_type": "code",
     "collapsed": false,
     "input": [
      "import os, sys, inspect\n",
      " # realpath() will make your script run, even if you symlink it :)\n",
      "cmd_folder = os.path.realpath(os.path.abspath(os.path.split(inspect.getfile(inspect.currentframe()))[0]))\n",
      "if cmd_folder not in sys.path:\n",
      "    sys.path.insert(0, cmd_folder)\n",
      "actualFolder = cmd_folder.split()\n",
      "cmd_folder.rsplit(' ', 1)[0]\n",
      "print (actualFolder)\n",
      "print (cmd_folder)"
     ],
     "language": "python",
     "metadata": {},
     "outputs": [
      {
       "output_type": "stream",
       "stream": "stdout",
       "text": [
        "['C:\\\\Users\\\\pablo\\\\Documents\\\\numericos-interactivo\\\\Notebook', 'files']\n",
        "C:\\Users\\pablo\\Documents\\numericos-interactivo\\Notebook files\n"
       ]
      }
     ],
     "prompt_number": 27
    },
    {
     "cell_type": "code",
     "collapsed": false,
     "input": [
      "set SETPATH = C:\\\\Users\\\\pablo\\\\Documents\\\\numericos-interactivo\\\\project_2014_numerical_methods\\\\integrators\n",
      "from integrators import romberginteg"
     ],
     "language": "python",
     "metadata": {},
     "outputs": [
      {
       "ename": "SyntaxError",
       "evalue": "invalid syntax (<ipython-input-33-da4f00cabb53>, line 1)",
       "output_type": "pyerr",
       "traceback": [
        "\u001b[1;36m  File \u001b[1;32m\"<ipython-input-33-da4f00cabb53>\"\u001b[1;36m, line \u001b[1;32m1\u001b[0m\n\u001b[1;33m    set PATH = C:\\\\Users\\\\pablo\\\\Documents\\\\numericos-interactivo\\\\project_2014_numerical_methods\\\\integrators\u001b[0m\n\u001b[1;37m           ^\u001b[0m\n\u001b[1;31mSyntaxError\u001b[0m\u001b[1;31m:\u001b[0m invalid syntax\n"
       ]
      }
     ],
     "prompt_number": 33
    },
    {
     "cell_type": "code",
     "collapsed": false,
     "input": [],
     "language": "python",
     "metadata": {},
     "outputs": []
    }
   ],
   "metadata": {}
  }
 ]
}