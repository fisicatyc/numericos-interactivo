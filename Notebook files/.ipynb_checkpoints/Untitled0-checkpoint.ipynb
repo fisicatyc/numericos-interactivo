{
 "metadata": {
  "name": "",
  "signature": "sha256:499a34e141ac0cccf992f44df1482880530e52f4b3f1087f99e10b79f9aac633"
 },
 "nbformat": 3,
 "nbformat_minor": 0,
 "worksheets": [
  {
   "cells": [
    {
     "cell_type": "markdown",
     "metadata": {},
     "source": [
      "$\\frac{\\partial^2y(\\epsilon)2}{\\partial \\epsilon^2}$\n"
     ]
    },
    {
     "cell_type": "code",
     "collapsed": false,
     "input": [
      "import os, sys, inspect\n",
      " # realpath() will make your script run, even if you symlink it :)\n",
      "cmd_folder = os.path.realpath(os.path.abspath(os.path.split(inspect.getfile(inspect.currentframe()))[0]))\n",
      "if cmd_folder not in sys.path:\n",
      "    sys.path.insert(0, cmd_folder)\n",
      "actualFolder = cmd_folder.split()\n",
      "actualFolder.rsplit(\"\\\\\", 1)[0]\n",
      "print (actualFolder)        "
     ],
     "language": "python",
     "metadata": {},
     "outputs": [
      {
       "output_type": "stream",
       "stream": "stdout",
       "text": [
        "['C:\\\\Users\\\\pablo\\\\Documents\\\\numericos-interactivo\\\\Notebook', 'files']\n"
       ]
      }
     ],
     "prompt_number": 22
    },
    {
     "cell_type": "markdown",
     "metadata": {},
     "source": []
    }
   ],
   "metadata": {}
  }
 ]
}